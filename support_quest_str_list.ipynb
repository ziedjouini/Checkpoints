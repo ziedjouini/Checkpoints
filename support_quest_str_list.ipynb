{
  "nbformat": 4,
  "nbformat_minor": 0,
  "metadata": {
    "colab": {
      "provenance": [],
      "include_colab_link": true
    },
    "kernelspec": {
      "name": "python3",
      "display_name": "Python 3"
    },
    "language_info": {
      "name": "python"
    }
  },
  "cells": [
    {
      "cell_type": "markdown",
      "metadata": {
        "id": "view-in-github",
        "colab_type": "text"
      },
      "source": [
        "<a href=\"https://colab.research.google.com/github/ziedjouini/Checkpoints/blob/main/support_quest_str_list.ipynb\" target=\"_parent\"><img src=\"https://colab.research.google.com/assets/colab-badge.svg\" alt=\"Open In Colab\"/></a>"
      ]
    },
    {
      "cell_type": "markdown",
      "source": [
        "# str"
      ],
      "metadata": {
        "id": "HuwZd_7AFWm8"
      }
    },
    {
      "cell_type": "markdown",
      "source": [
        "### mission 4"
      ],
      "metadata": {
        "id": "vZqJgoHIH2WF"
      }
    },
    {
      "cell_type": "markdown",
      "source": [
        "Display the following string without including the spaces \n",
        "\n",
        "\n",
        "at the beginning and end. There's a string method that does exactly that, look at the documentation!"
      ],
      "metadata": {
        "id": "Kyo0eR2yH7ed"
      }
    },
    {
      "cell_type": "code",
      "source": [
        "s = \"   Data Analyst  \" #3 espaces au début du str et 2 à la fin\n",
        "\n",
        "print(len(s))\n",
        "s_strip = s.strip()\n",
        "\n",
        "print(len(s_strip))\n"
      ],
      "metadata": {
        "colab": {
          "base_uri": "https://localhost:8080/"
        },
        "id": "9je1yEfhHdDN",
        "outputId": "a58a2644-f33f-4344-e5e1-02bdc0ff4cf0"
      },
      "execution_count": null,
      "outputs": [
        {
          "output_type": "stream",
          "name": "stdout",
          "text": [
            "17\n",
            "12\n"
          ]
        }
      ]
    },
    {
      "cell_type": "code",
      "source": [
        "s = \"[Data Analyst]\" #3 espaces au début du str et 2 à la fin\n",
        "\n",
        "print(len(s))\n",
        "s_strip = s.strip('[]')\n",
        "print(s_strip)\n",
        "print(len(s_strip))"
      ],
      "metadata": {
        "colab": {
          "base_uri": "https://localhost:8080/"
        },
        "id": "g0xyQhpleo06",
        "outputId": "557483aa-ba4b-4180-c9eb-ed2c57690b27"
      },
      "execution_count": null,
      "outputs": [
        {
          "output_type": "stream",
          "name": "stdout",
          "text": [
            "14\n",
            "Data Analyst\n",
            "12\n"
          ]
        }
      ]
    },
    {
      "cell_type": "code",
      "source": [],
      "metadata": {
        "id": "yqjgTuqYeZmx"
      },
      "execution_count": null,
      "outputs": []
    },
    {
      "cell_type": "markdown",
      "source": [
        "### mission 5\n",
        "\n",
        "Ask the user for a string, then for a character, then for another character.\n",
        "\n",
        "Then, display the first string where the occurences of the first character are replaced by the second one."
      ],
      "metadata": {
        "id": "Crpcf-3LInZM"
      }
    },
    {
      "cell_type": "code",
      "source": [
        "string_input = input(\"please enter a word : \")\n",
        "char_input1 = input(\"please enter a first char : \")\n",
        "char_input2 = input(\"please enter a second char : \")\n",
        "\n",
        "#\"welcome\" , e, u\n",
        "# --> wulcomu\n",
        "string_final = string_input.replace(char_input1, char_input2)\n",
        "print(string_final)\n"
      ],
      "metadata": {
        "colab": {
          "base_uri": "https://localhost:8080/"
        },
        "id": "q8B-SBNOLkzP",
        "outputId": "d949f5b6-ba1c-452b-e412-f9bd10ab07d3"
      },
      "execution_count": null,
      "outputs": [
        {
          "output_type": "stream",
          "name": "stdout",
          "text": [
            "please enter a word : welcome\n",
            "please enter a first char : e\n",
            "please enter a second char : u\n",
            "wulcomu\n"
          ]
        }
      ]
    },
    {
      "cell_type": "markdown",
      "source": [
        "### mission 6\n",
        "\n",
        "Ask the user for a string. Then, display the same string with all vowels converted to uppercase, and all consonants converted to lowercase."
      ],
      "metadata": {
        "id": "JaasIajrJsk8"
      }
    },
    {
      "cell_type": "code",
      "source": [
        "#rappel boucles \n",
        "test = 'Hello'\n",
        "\n",
        "#boucle valeur\n",
        "\"\"\"\"\n",
        "for v in test:\n",
        "    print(v)\n",
        "\"\"\"\n",
        "\"\"\"\n",
        "#boucle sur indice\n",
        "for i in range(len(test)):\n",
        "    print(i, test[i] )\n",
        "\"\"\"\n",
        "#index valeur\n",
        "for i, v in enumerate(test):\n",
        "    print(i,v)"
      ],
      "metadata": {
        "colab": {
          "base_uri": "https://localhost:8080/"
        },
        "id": "srxyMeyMhnOf",
        "outputId": "06f81cb2-8ca6-4691-c56e-cbecbf443517"
      },
      "execution_count": null,
      "outputs": [
        {
          "output_type": "stream",
          "name": "stdout",
          "text": [
            "0 H\n",
            "1 e\n",
            "2 l\n",
            "3 l\n",
            "4 o\n"
          ]
        }
      ]
    },
    {
      "cell_type": "code",
      "source": [
        "string_input = input(\"please enter a word : \")\n",
        "vowels = 'aeuoiAEUOI'\n",
        "# \"HELLO\" \n",
        "# -- > hEllO\n",
        "final_string = ''\n",
        "# BOUCLE PARCOURIR VALEUR DU STRING_input \n",
        "for v in string_input :\n",
        "        #condition : est ce que mon char est une voyelle ? :\n",
        "        if v in  vowels :\n",
        "           # convertir en maj\n",
        "            v.upper()\n",
        "        #sinon :\n",
        "        else :\n",
        "            final_string += v.lower()\n",
        "            #convertir en min\n",
        "\n",
        "print(final_string)"
      ],
      "metadata": {
        "colab": {
          "base_uri": "https://localhost:8080/"
        },
        "id": "7qABdMkiLnMu",
        "outputId": "6c6797d1-af7a-40e9-d514-0997eaae15b7"
      },
      "execution_count": null,
      "outputs": [
        {
          "output_type": "stream",
          "name": "stdout",
          "text": [
            "please enter a word : HELLO\n",
            "hEllO\n"
          ]
        }
      ]
    },
    {
      "cell_type": "code",
      "source": [],
      "metadata": {
        "id": "Q0daLgSBjTdF"
      },
      "execution_count": null,
      "outputs": []
    },
    {
      "cell_type": "markdown",
      "source": [
        "# liste"
      ],
      "metadata": {
        "id": "MNsNAYqvQMGv"
      }
    },
    {
      "cell_type": "markdown",
      "source": [
        "### mission 3\n",
        "\n",
        "Define a list with five numbers, then ask the user for a number. Put the number at the end of the list, remove the first element from the list, and finally display the list.\n",
        "\n",
        "For example, with the list test_list3 = [1, 9, 6, 15, 4] and the input 7, you should display:\n",
        "\n",
        "[9, 6, 15, 4, 7]"
      ],
      "metadata": {
        "id": "hCGfHD8lQxBo"
      }
    },
    {
      "cell_type": "code",
      "source": [
        "#rappel \n",
        "l = [9, 6, 15, 4, 7]\n",
        "\n",
        "#modifier premiere valeur\n",
        "l[0] = 10\n",
        "print(l)\n",
        "\n"
      ],
      "metadata": {
        "colab": {
          "base_uri": "https://localhost:8080/"
        },
        "id": "JNWTN8FfQyky",
        "outputId": "273aee09-1cc7-4924-8c8c-97327017c1fd"
      },
      "execution_count": null,
      "outputs": [
        {
          "output_type": "stream",
          "name": "stdout",
          "text": [
            "[10, 6, 15, 4, 7]\n"
          ]
        }
      ]
    },
    {
      "cell_type": "code",
      "source": [
        "#mission 3\n",
        "l = [9, 6, 15, 4, 7]\n",
        "number_input = int(input('please choose a number : '))\n",
        "#print(type(number_input))\n",
        "\n",
        "#rajouter number_input à la fin de la liste\n",
        "l.append(number_input)\n",
        "print(l)\n",
        "\n",
        "#remove first element\n",
        "#l[START:STOP:STEP] PAR DEFAUT : start indice 0, stop fin de liste ; step 1 par defaut \n",
        "print(l[1::])"
      ],
      "metadata": {
        "colab": {
          "base_uri": "https://localhost:8080/"
        },
        "id": "fffMtARtkUcK",
        "outputId": "78e93074-e404-4357-8c77-0c933994543e"
      },
      "execution_count": null,
      "outputs": [
        {
          "output_type": "stream",
          "name": "stdout",
          "text": [
            "please choose a number : 5\n",
            "[9, 6, 15, 4, 7, 5]\n",
            "[6, 15, 4, 7, 5]\n"
          ]
        }
      ]
    },
    {
      "cell_type": "markdown",
      "source": [
        "### mission 4"
      ],
      "metadata": {
        "id": "Q74fyUyNXbq4"
      }
    },
    {
      "cell_type": "markdown",
      "source": [
        "Define a list, then ask the user for a string. Then, insert the string in the list at a random position, and display the resulting list.\n",
        "\n",
        "For example, with the list test_list4 = [\"p\", \"y\", \"t\", \"h\", \"o\"] and the input n, you might get:\n",
        "\n",
        "[\"p\", \"n\", \"y\", \"t\", \"h\", \"o\"]\n",
        "... but you might also get:\n",
        "\n",
        "[\"p\", \"y\", \"t\", \"n\", \"h\", \"o\"]"
      ],
      "metadata": {
        "id": "VPtV9-KxZEMg"
      }
    },
    {
      "cell_type": "code",
      "source": [
        "import random \n",
        "test_list4 = [\"p\", \"y\", \"t\", \"h\", \"o\"]\n",
        "# ask for string input\n",
        "string_input = input(\"please enter a char : \")\n",
        "# générer une position aléatoire ?\n",
        "random_pos = random.randint(0,len(test_list4) - 1)\n",
        "\n",
        "# inserer la valeur string input à la position aleatoire\n",
        "test_list4[random_pos] = string_input\n",
        "#afficher ma liste\n",
        "print(random_pos)\n",
        "print(test_list4)"
      ],
      "metadata": {
        "colab": {
          "base_uri": "https://localhost:8080/"
        },
        "id": "BtBfY5MFTcyO",
        "outputId": "5dd31d82-1789-4cda-d9ca-7e33b070ef2c"
      },
      "execution_count": null,
      "outputs": [
        {
          "output_type": "stream",
          "name": "stdout",
          "text": [
            "please enter a char : n\n",
            "4\n",
            "['p', 'y', 't', 'h', 'n']\n"
          ]
        }
      ]
    },
    {
      "cell_type": "markdown",
      "source": [
        "### mission 7"
      ],
      "metadata": {
        "id": "yAufRyphaxU4"
      }
    },
    {
      "cell_type": "markdown",
      "source": [
        "Define three lists containing no duplicates. Then, indicate (however you like) the two that have the most elements in common (or all three if there's a tie).\n",
        "\n",
        "For instance, with:\n",
        "\n",
        "list_a = [1, 2, 4, 8, 16, 32]\n",
        "\n",
        "list_b = [1, 2, 3, 5, 8, 13]\n",
        "\n",
        "list_c = [2, 3, 5, 7, 11, 13]\n",
        "\n",
        "It may display:\n",
        "\n",
        "Lists B and C have the most common elements!"
      ],
      "metadata": {
        "id": "y9TEZx97bIYp"
      }
    },
    {
      "cell_type": "code",
      "source": [
        "\n",
        "list_a = [1, 2, 4, 8, 16, 32]\n",
        "\n",
        "list_b = [1, 2, 3, 5, 8, 13]\n",
        "\n",
        "list_c = [2, 3, 5, 7, 11, 13]\n",
        "\n",
        "# --> Lists B and C have the most common elements!\n",
        "\n",
        "# list a et list b , nbr element en commun ?\n",
        "count_ab = 0\n",
        "for v  in list_a :\n",
        "    if v in list_b :\n",
        "        #print(v)\n",
        "        count_ab +=  1 \n",
        "#print(count_ab)\n",
        "        \n",
        "\n",
        "\n",
        "# list c et list b , nbr element en commun ?\n",
        "\n",
        "count_cb = 0\n",
        "for v  in list_c :\n",
        "    if v in list_b :\n",
        "        #print(v)\n",
        "        count_cb +=  1 \n",
        "#print(count_cb)\n",
        "\n",
        "# list a et list c, nbr element en commun ?\n",
        "\n",
        "count_ac = 0\n",
        "for v  in list_a :\n",
        "    if v in list_c :\n",
        "        #print(v)\n",
        "        count_ac +=  1 \n",
        "#print(count_ac)\n",
        "\n",
        "#rq on peut passer par les fonction\n",
        "\"\"\"\n",
        "def count_common_nbr(l1,l2):\n",
        "        \n",
        "    count = 0\n",
        "    for v  in l1:\n",
        "        if v in l2 :\n",
        "            #print(v)\n",
        "            count +=  1 \n",
        "    return count\n",
        "\n",
        "print(count_common_nbr(list_a,list_b))\n",
        "\"\"\"\n",
        "\n",
        "#comparer avec des conditions  : les listes à afficher ?\n",
        "\n",
        "list_count =  [count_ab,count_ac,count_cb]\n",
        "\n",
        "if max(list_count) == count_cb  :\n",
        "    print('Lists B and C have the most common elements!')\n",
        "\n",
        "elif max(list_count) == count_ac  :\n",
        "    print('Lists a and C have the most common elements!')\n",
        "\n",
        "elif max(list_count) == count_ab  :\n",
        "    print('Lists a and b have the most common elements!')\n",
        "else :\n",
        "    print('resultat inconnu')\n",
        "\n"
      ],
      "metadata": {
        "colab": {
          "base_uri": "https://localhost:8080/"
        },
        "id": "WGQdDda6aprv",
        "outputId": "b92f7d47-980a-419f-fe00-d10de809c57d"
      },
      "execution_count": null,
      "outputs": [
        {
          "output_type": "stream",
          "name": "stdout",
          "text": [
            "3\n",
            "Lists B and C have the most common elements!\n"
          ]
        }
      ]
    },
    {
      "cell_type": "code",
      "source": [
        "test =1,2,3,3,3,3\n",
        "print(type(test))\n",
        "print(test)"
      ],
      "metadata": {
        "colab": {
          "base_uri": "https://localhost:8080/"
        },
        "id": "UL10p1jltUDp",
        "outputId": "41e422ac-cb60-42a1-bb45-861851328397"
      },
      "execution_count": null,
      "outputs": [
        {
          "output_type": "stream",
          "name": "stdout",
          "text": [
            "<class 'tuple'>\n",
            "(1, 2, 3, 3, 3, 3)\n"
          ]
        }
      ]
    },
    {
      "cell_type": "code",
      "source": [
        "test_set ={1,2,3,3,3,3}\n",
        "print(type(test_set))\n",
        "print(test_set)"
      ],
      "metadata": {
        "colab": {
          "base_uri": "https://localhost:8080/"
        },
        "id": "CN39c43OtrWT",
        "outputId": "7533cf8e-f805-4b44-b025-176f322c9706"
      },
      "execution_count": null,
      "outputs": [
        {
          "output_type": "stream",
          "name": "stdout",
          "text": [
            "<class 'set'>\n",
            "{1, 2, 3}\n"
          ]
        }
      ]
    },
    {
      "cell_type": "code",
      "source": [
        "string_test = 'abccccc'\n",
        "print(set(string_test))"
      ],
      "metadata": {
        "colab": {
          "base_uri": "https://localhost:8080/"
        },
        "id": "CcAJFicjvuf9",
        "outputId": "09fe8663-aa07-4140-db33-da6cea555dd2"
      },
      "execution_count": null,
      "outputs": [
        {
          "output_type": "stream",
          "name": "stdout",
          "text": [
            "{'a', 'c', 'b'}\n"
          ]
        }
      ]
    },
    {
      "cell_type": "code",
      "source": [
        "# deuxième méthode avec les set\n",
        "\n",
        "#transformer mes listes en set\n",
        "\n",
        "seta,setb,setc = set(list_a), set(list_b), set(list_c)\n",
        "\n",
        "#print(seta)\n",
        "#print(setb)\n",
        "\n",
        "# set a et set b , nbr element en commun ?\n",
        "\n",
        "count_ab = len(seta.intersection(setb))\n",
        "#set b et c\n",
        "count_bc = len(setc.intersection(setb))\n",
        "#set a et c\n",
        "count_ac = len(setc.intersection(seta))\n",
        "\n",
        "\n",
        "\n",
        "#comparer avec des conditions  : les listes à afficher ?\n",
        "\n",
        "list_count =  [count_ab,count_ac,count_bc]\n",
        "\n",
        "if max(list_count) == count_cb  :\n",
        "    print('Lists B and C have the most common elements!')\n",
        "\n",
        "elif max(list_count) == count_ac  :\n",
        "    print('Lists a and C have the most common elements!')\n",
        "\n",
        "elif max(list_count) == count_ab  :\n",
        "    print('Lists a and b have the most common elements!')\n",
        "else :\n",
        "    print('resultat inconnu')"
      ],
      "metadata": {
        "id": "wf91WbY2davv",
        "colab": {
          "base_uri": "https://localhost:8080/"
        },
        "outputId": "e9f26eb8-eda5-47fa-857a-523dc748354c"
      },
      "execution_count": null,
      "outputs": [
        {
          "output_type": "stream",
          "name": "stdout",
          "text": [
            "{32, 1, 2, 4, 8, 16}\n",
            "{1, 2, 3, 5, 8, 13}\n",
            "Lists B and C have the most common elements!\n"
          ]
        }
      ]
    },
    {
      "cell_type": "code",
      "source": [],
      "metadata": {
        "id": "1TEiR3liti82"
      },
      "execution_count": null,
      "outputs": []
    }
  ]
}